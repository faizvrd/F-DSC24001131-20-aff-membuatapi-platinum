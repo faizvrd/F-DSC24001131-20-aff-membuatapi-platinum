{
  "cells": [
    {
      "cell_type": "markdown",
      "metadata": {
        "id": "QAj195tnMbVd"
      },
      "source": [
        "#CHALLENGE PLATINUM"
      ]
    },
    {
      "cell_type": "markdown",
      "metadata": {
        "id": "hndfGNXYMhL9"
      },
      "source": [
        "##Library"
      ]
    },
    {
      "cell_type": "code",
      "execution_count": null,
      "metadata": {
        "id": "_crU0LPDAKfP"
      },
      "outputs": [],
      "source": [
        "import pandas as pd\n",
        "import regex as re\n",
        "import pickle\n",
        "import numpy as np\n",
        "import matplotlib.pyplot as plt\n",
        "from tensorflow.keras import layers\n",
        "from tensorflow.keras.models import Sequential\n",
        "from tensorflow.keras.layers import Dense, Embedding, LSTM, SpatialDropout1D, SimpleRNN, Activation\n",
        "from tensorflow.keras import optimizers\n",
        "from tensorflow.keras.callbacks import EarlyStopping, TensorBoard\n",
        "from tensorflow.keras.layers import Flatten\n",
        "from tensorflow.keras import backend as K\n",
        "from tensorflow.keras.preprocessing.text import Tokenizer\n",
        "from tensorflow.keras.preprocessing.sequence import pad_sequences\n",
        "from sklearn.model_selection import train_test_split\n",
        "from sklearn import metrics\n",
        "from sklearn.metrics import classification_report\n",
        "from sklearn.metrics import accuracy_score\n",
        "from sklearn.model_selection import KFold\n",
        "from collections import defaultdict\n",
        "from keras.models import load_model"
      ]
    },
    {
      "cell_type": "markdown",
      "metadata": {
        "id": "FLoPFSU-MofB"
      },
      "source": [
        "##Data Collection"
      ]
    },
    {
      "cell_type": "code",
      "execution_count": null,
      "metadata": {
        "id": "ipGk6aCKCHcm"
      },
      "outputs": [],
      "source": [
        "df_train = pd.read_csv('/content/drive/MyDrive/DSC20/train.csv', sep=';', on_bad_lines='skip')"
      ]
    },
    {
      "cell_type": "markdown",
      "metadata": {
        "id": "5rrXEataNVXr"
      },
      "source": [
        "#Data Understanding"
      ]
    },
    {
      "cell_type": "markdown",
      "metadata": {
        "id": "waCZWYEAMr9-"
      },
      "source": [
        "##Data Dictionary"
      ]
    },
    {
      "cell_type": "code",
      "execution_count": null,
      "metadata": {
        "colab": {
          "base_uri": "https://localhost:8080/",
          "height": 363
        },
        "id": "vMZhOt7mF6Gv",
        "outputId": "c029e9c8-0ba5-440e-e8f2-acc7e4aef95d"
      },
      "outputs": [
        {
          "output_type": "execute_result",
          "data": {
            "text/plain": [
              "                                                text     label\n",
              "0  warung ini dimiliki oleh pengusaha pabrik tahu...  positive\n",
              "1  mohon ulama lurus dan k212 mmbri hujjah partai...   neutral\n",
              "2  lokasi strategis di jalan sumatera bandung . t...  positive\n",
              "3  betapa bahagia nya diri ini saat unboxing pake...  positive\n",
              "4  duh . jadi mahasiswa jangan sombong dong . kas...  negative\n",
              "5  makanan beragam , harga makanan di food stall ...  positive\n",
              "6  pakai kartu kredit bca tidak untung malah rugi...  negative\n",
              "7  tempat unik , bagus buat foto , makanan enak ,...  positive\n",
              "8  saya bersama keluarga baru saja menikmati peng...  positive\n",
              "9                                          bersyukur  positive"
            ],
            "text/html": [
              "\n",
              "  <div id=\"df-27e6c5a4-0c79-42b8-82ea-7a3c20aa2fd2\" class=\"colab-df-container\">\n",
              "    <div>\n",
              "<style scoped>\n",
              "    .dataframe tbody tr th:only-of-type {\n",
              "        vertical-align: middle;\n",
              "    }\n",
              "\n",
              "    .dataframe tbody tr th {\n",
              "        vertical-align: top;\n",
              "    }\n",
              "\n",
              "    .dataframe thead th {\n",
              "        text-align: right;\n",
              "    }\n",
              "</style>\n",
              "<table border=\"1\" class=\"dataframe\">\n",
              "  <thead>\n",
              "    <tr style=\"text-align: right;\">\n",
              "      <th></th>\n",
              "      <th>text</th>\n",
              "      <th>label</th>\n",
              "    </tr>\n",
              "  </thead>\n",
              "  <tbody>\n",
              "    <tr>\n",
              "      <th>0</th>\n",
              "      <td>warung ini dimiliki oleh pengusaha pabrik tahu...</td>\n",
              "      <td>positive</td>\n",
              "    </tr>\n",
              "    <tr>\n",
              "      <th>1</th>\n",
              "      <td>mohon ulama lurus dan k212 mmbri hujjah partai...</td>\n",
              "      <td>neutral</td>\n",
              "    </tr>\n",
              "    <tr>\n",
              "      <th>2</th>\n",
              "      <td>lokasi strategis di jalan sumatera bandung . t...</td>\n",
              "      <td>positive</td>\n",
              "    </tr>\n",
              "    <tr>\n",
              "      <th>3</th>\n",
              "      <td>betapa bahagia nya diri ini saat unboxing pake...</td>\n",
              "      <td>positive</td>\n",
              "    </tr>\n",
              "    <tr>\n",
              "      <th>4</th>\n",
              "      <td>duh . jadi mahasiswa jangan sombong dong . kas...</td>\n",
              "      <td>negative</td>\n",
              "    </tr>\n",
              "    <tr>\n",
              "      <th>5</th>\n",
              "      <td>makanan beragam , harga makanan di food stall ...</td>\n",
              "      <td>positive</td>\n",
              "    </tr>\n",
              "    <tr>\n",
              "      <th>6</th>\n",
              "      <td>pakai kartu kredit bca tidak untung malah rugi...</td>\n",
              "      <td>negative</td>\n",
              "    </tr>\n",
              "    <tr>\n",
              "      <th>7</th>\n",
              "      <td>tempat unik , bagus buat foto , makanan enak ,...</td>\n",
              "      <td>positive</td>\n",
              "    </tr>\n",
              "    <tr>\n",
              "      <th>8</th>\n",
              "      <td>saya bersama keluarga baru saja menikmati peng...</td>\n",
              "      <td>positive</td>\n",
              "    </tr>\n",
              "    <tr>\n",
              "      <th>9</th>\n",
              "      <td>bersyukur</td>\n",
              "      <td>positive</td>\n",
              "    </tr>\n",
              "  </tbody>\n",
              "</table>\n",
              "</div>\n",
              "    <div class=\"colab-df-buttons\">\n",
              "\n",
              "  <div class=\"colab-df-container\">\n",
              "    <button class=\"colab-df-convert\" onclick=\"convertToInteractive('df-27e6c5a4-0c79-42b8-82ea-7a3c20aa2fd2')\"\n",
              "            title=\"Convert this dataframe to an interactive table.\"\n",
              "            style=\"display:none;\">\n",
              "\n",
              "  <svg xmlns=\"http://www.w3.org/2000/svg\" height=\"24px\" viewBox=\"0 -960 960 960\">\n",
              "    <path d=\"M120-120v-720h720v720H120Zm60-500h600v-160H180v160Zm220 220h160v-160H400v160Zm0 220h160v-160H400v160ZM180-400h160v-160H180v160Zm440 0h160v-160H620v160ZM180-180h160v-160H180v160Zm440 0h160v-160H620v160Z\"/>\n",
              "  </svg>\n",
              "    </button>\n",
              "\n",
              "  <style>\n",
              "    .colab-df-container {\n",
              "      display:flex;\n",
              "      gap: 12px;\n",
              "    }\n",
              "\n",
              "    .colab-df-convert {\n",
              "      background-color: #E8F0FE;\n",
              "      border: none;\n",
              "      border-radius: 50%;\n",
              "      cursor: pointer;\n",
              "      display: none;\n",
              "      fill: #1967D2;\n",
              "      height: 32px;\n",
              "      padding: 0 0 0 0;\n",
              "      width: 32px;\n",
              "    }\n",
              "\n",
              "    .colab-df-convert:hover {\n",
              "      background-color: #E2EBFA;\n",
              "      box-shadow: 0px 1px 2px rgba(60, 64, 67, 0.3), 0px 1px 3px 1px rgba(60, 64, 67, 0.15);\n",
              "      fill: #174EA6;\n",
              "    }\n",
              "\n",
              "    .colab-df-buttons div {\n",
              "      margin-bottom: 4px;\n",
              "    }\n",
              "\n",
              "    [theme=dark] .colab-df-convert {\n",
              "      background-color: #3B4455;\n",
              "      fill: #D2E3FC;\n",
              "    }\n",
              "\n",
              "    [theme=dark] .colab-df-convert:hover {\n",
              "      background-color: #434B5C;\n",
              "      box-shadow: 0px 1px 3px 1px rgba(0, 0, 0, 0.15);\n",
              "      filter: drop-shadow(0px 1px 2px rgba(0, 0, 0, 0.3));\n",
              "      fill: #FFFFFF;\n",
              "    }\n",
              "  </style>\n",
              "\n",
              "    <script>\n",
              "      const buttonEl =\n",
              "        document.querySelector('#df-27e6c5a4-0c79-42b8-82ea-7a3c20aa2fd2 button.colab-df-convert');\n",
              "      buttonEl.style.display =\n",
              "        google.colab.kernel.accessAllowed ? 'block' : 'none';\n",
              "\n",
              "      async function convertToInteractive(key) {\n",
              "        const element = document.querySelector('#df-27e6c5a4-0c79-42b8-82ea-7a3c20aa2fd2');\n",
              "        const dataTable =\n",
              "          await google.colab.kernel.invokeFunction('convertToInteractive',\n",
              "                                                    [key], {});\n",
              "        if (!dataTable) return;\n",
              "\n",
              "        const docLinkHtml = 'Like what you see? Visit the ' +\n",
              "          '<a target=\"_blank\" href=https://colab.research.google.com/notebooks/data_table.ipynb>data table notebook</a>'\n",
              "          + ' to learn more about interactive tables.';\n",
              "        element.innerHTML = '';\n",
              "        dataTable['output_type'] = 'display_data';\n",
              "        await google.colab.output.renderOutput(dataTable, element);\n",
              "        const docLink = document.createElement('div');\n",
              "        docLink.innerHTML = docLinkHtml;\n",
              "        element.appendChild(docLink);\n",
              "      }\n",
              "    </script>\n",
              "  </div>\n",
              "\n",
              "\n",
              "<div id=\"df-1edb15de-ae83-4704-914f-0eb68e37a301\">\n",
              "  <button class=\"colab-df-quickchart\" onclick=\"quickchart('df-1edb15de-ae83-4704-914f-0eb68e37a301')\"\n",
              "            title=\"Suggest charts\"\n",
              "            style=\"display:none;\">\n",
              "\n",
              "<svg xmlns=\"http://www.w3.org/2000/svg\" height=\"24px\"viewBox=\"0 0 24 24\"\n",
              "     width=\"24px\">\n",
              "    <g>\n",
              "        <path d=\"M19 3H5c-1.1 0-2 .9-2 2v14c0 1.1.9 2 2 2h14c1.1 0 2-.9 2-2V5c0-1.1-.9-2-2-2zM9 17H7v-7h2v7zm4 0h-2V7h2v10zm4 0h-2v-4h2v4z\"/>\n",
              "    </g>\n",
              "</svg>\n",
              "  </button>\n",
              "\n",
              "<style>\n",
              "  .colab-df-quickchart {\n",
              "      --bg-color: #E8F0FE;\n",
              "      --fill-color: #1967D2;\n",
              "      --hover-bg-color: #E2EBFA;\n",
              "      --hover-fill-color: #174EA6;\n",
              "      --disabled-fill-color: #AAA;\n",
              "      --disabled-bg-color: #DDD;\n",
              "  }\n",
              "\n",
              "  [theme=dark] .colab-df-quickchart {\n",
              "      --bg-color: #3B4455;\n",
              "      --fill-color: #D2E3FC;\n",
              "      --hover-bg-color: #434B5C;\n",
              "      --hover-fill-color: #FFFFFF;\n",
              "      --disabled-bg-color: #3B4455;\n",
              "      --disabled-fill-color: #666;\n",
              "  }\n",
              "\n",
              "  .colab-df-quickchart {\n",
              "    background-color: var(--bg-color);\n",
              "    border: none;\n",
              "    border-radius: 50%;\n",
              "    cursor: pointer;\n",
              "    display: none;\n",
              "    fill: var(--fill-color);\n",
              "    height: 32px;\n",
              "    padding: 0;\n",
              "    width: 32px;\n",
              "  }\n",
              "\n",
              "  .colab-df-quickchart:hover {\n",
              "    background-color: var(--hover-bg-color);\n",
              "    box-shadow: 0 1px 2px rgba(60, 64, 67, 0.3), 0 1px 3px 1px rgba(60, 64, 67, 0.15);\n",
              "    fill: var(--button-hover-fill-color);\n",
              "  }\n",
              "\n",
              "  .colab-df-quickchart-complete:disabled,\n",
              "  .colab-df-quickchart-complete:disabled:hover {\n",
              "    background-color: var(--disabled-bg-color);\n",
              "    fill: var(--disabled-fill-color);\n",
              "    box-shadow: none;\n",
              "  }\n",
              "\n",
              "  .colab-df-spinner {\n",
              "    border: 2px solid var(--fill-color);\n",
              "    border-color: transparent;\n",
              "    border-bottom-color: var(--fill-color);\n",
              "    animation:\n",
              "      spin 1s steps(1) infinite;\n",
              "  }\n",
              "\n",
              "  @keyframes spin {\n",
              "    0% {\n",
              "      border-color: transparent;\n",
              "      border-bottom-color: var(--fill-color);\n",
              "      border-left-color: var(--fill-color);\n",
              "    }\n",
              "    20% {\n",
              "      border-color: transparent;\n",
              "      border-left-color: var(--fill-color);\n",
              "      border-top-color: var(--fill-color);\n",
              "    }\n",
              "    30% {\n",
              "      border-color: transparent;\n",
              "      border-left-color: var(--fill-color);\n",
              "      border-top-color: var(--fill-color);\n",
              "      border-right-color: var(--fill-color);\n",
              "    }\n",
              "    40% {\n",
              "      border-color: transparent;\n",
              "      border-right-color: var(--fill-color);\n",
              "      border-top-color: var(--fill-color);\n",
              "    }\n",
              "    60% {\n",
              "      border-color: transparent;\n",
              "      border-right-color: var(--fill-color);\n",
              "    }\n",
              "    80% {\n",
              "      border-color: transparent;\n",
              "      border-right-color: var(--fill-color);\n",
              "      border-bottom-color: var(--fill-color);\n",
              "    }\n",
              "    90% {\n",
              "      border-color: transparent;\n",
              "      border-bottom-color: var(--fill-color);\n",
              "    }\n",
              "  }\n",
              "</style>\n",
              "\n",
              "  <script>\n",
              "    async function quickchart(key) {\n",
              "      const quickchartButtonEl =\n",
              "        document.querySelector('#' + key + ' button');\n",
              "      quickchartButtonEl.disabled = true;  // To prevent multiple clicks.\n",
              "      quickchartButtonEl.classList.add('colab-df-spinner');\n",
              "      try {\n",
              "        const charts = await google.colab.kernel.invokeFunction(\n",
              "            'suggestCharts', [key], {});\n",
              "      } catch (error) {\n",
              "        console.error('Error during call to suggestCharts:', error);\n",
              "      }\n",
              "      quickchartButtonEl.classList.remove('colab-df-spinner');\n",
              "      quickchartButtonEl.classList.add('colab-df-quickchart-complete');\n",
              "    }\n",
              "    (() => {\n",
              "      let quickchartButtonEl =\n",
              "        document.querySelector('#df-1edb15de-ae83-4704-914f-0eb68e37a301 button');\n",
              "      quickchartButtonEl.style.display =\n",
              "        google.colab.kernel.accessAllowed ? 'block' : 'none';\n",
              "    })();\n",
              "  </script>\n",
              "</div>\n",
              "\n",
              "    </div>\n",
              "  </div>\n"
            ],
            "application/vnd.google.colaboratory.intrinsic+json": {
              "type": "dataframe",
              "variable_name": "df_train",
              "summary": "{\n  \"name\": \"df_train\",\n  \"rows\": 11000,\n  \"fields\": [\n    {\n      \"column\": \"text\",\n      \"properties\": {\n        \"dtype\": \"string\",\n        \"num_unique_values\": 10933,\n        \"samples\": [\n          \"ikan laut di aceh masih mahal\",\n          \"pizza sama coffie nya enak , harga nya juga murah banget hehehe sewaktu ke sini dulu waktu hujan jadi bisa sambil santai lama sekali :\",\n          \"kalau mau merasakan roti zaman dahulu , ini salah satu tempat nya . buka nya hanya sampai sore , jadi kalau pulang kantor kadang tidak keburu ke sini\"\n        ],\n        \"semantic_type\": \"\",\n        \"description\": \"\"\n      }\n    },\n    {\n      \"column\": \"label\",\n      \"properties\": {\n        \"dtype\": \"category\",\n        \"num_unique_values\": 3,\n        \"samples\": [\n          \"positive\",\n          \"neutral\",\n          \"negative\"\n        ],\n        \"semantic_type\": \"\",\n        \"description\": \"\"\n      }\n    }\n  ]\n}"
            }
          },
          "metadata": {},
          "execution_count": 3
        }
      ],
      "source": [
        "df_train.head(10)"
      ]
    },
    {
      "cell_type": "code",
      "execution_count": null,
      "metadata": {
        "colab": {
          "base_uri": "https://localhost:8080/"
        },
        "id": "OaV9OCh6Myis",
        "outputId": "052130e6-f064-40fc-b5f6-9c7549eadfbc"
      },
      "outputs": [
        {
          "output_type": "stream",
          "name": "stdout",
          "text": [
            "<class 'pandas.core.frame.DataFrame'>\n",
            "RangeIndex: 11000 entries, 0 to 10999\n",
            "Data columns (total 2 columns):\n",
            " #   Column  Non-Null Count  Dtype \n",
            "---  ------  --------------  ----- \n",
            " 0   text    11000 non-null  object\n",
            " 1   label   11000 non-null  object\n",
            "dtypes: object(2)\n",
            "memory usage: 172.0+ KB\n"
          ]
        }
      ],
      "source": [
        "df_train.info()"
      ]
    },
    {
      "cell_type": "code",
      "execution_count": null,
      "metadata": {
        "colab": {
          "base_uri": "https://localhost:8080/"
        },
        "id": "majCshY_NjY0",
        "outputId": "323ec0d2-bb33-4858-88b2-4261f6a4060b"
      },
      "outputs": [
        {
          "output_type": "execute_result",
          "data": {
            "text/plain": [
              "(11000, 2)"
            ]
          },
          "metadata": {},
          "execution_count": 5
        }
      ],
      "source": [
        "df_train.shape"
      ]
    },
    {
      "cell_type": "code",
      "execution_count": null,
      "metadata": {
        "colab": {
          "base_uri": "https://localhost:8080/"
        },
        "id": "Vgw3sxqsN52q",
        "outputId": "076b087d-80a2-41cf-9ce3-ec001dba82fb"
      },
      "outputs": [
        {
          "output_type": "execute_result",
          "data": {
            "text/plain": [
              "label\n",
              "positive    6416\n",
              "negative    3436\n",
              "neutral     1148\n",
              "Name: count, dtype: int64"
            ]
          },
          "metadata": {},
          "execution_count": 6
        }
      ],
      "source": [
        "df_train.label.value_counts()"
      ]
    },
    {
      "cell_type": "markdown",
      "metadata": {
        "id": "FyEBu6OgOf_K"
      },
      "source": [
        "#Data Preprocessing"
      ]
    },
    {
      "cell_type": "markdown",
      "metadata": {
        "id": "NAN5CBixOW16"
      },
      "source": [
        "##Text Normalization/Cleansing"
      ]
    },
    {
      "cell_type": "code",
      "execution_count": null,
      "metadata": {
        "id": "ZhsL3oIJOKSk"
      },
      "outputs": [],
      "source": [
        "def cleansing(sent):\n",
        "    # Mengubah kata menjadi huruf kecil semua dengan menggunakan fungsi lower()\n",
        "    string = sent.lower()\n",
        "    # Menghapus emoticon dan tanda baca menggunakan \"RegEx\" dengan script di bawah\n",
        "    string = re.sub(r'[^a-zA-Z0-9]', ' ', string)\n",
        "    return string"
      ]
    },
    {
      "cell_type": "code",
      "execution_count": null,
      "metadata": {
        "id": "iMcBuG-cO-ae"
      },
      "outputs": [],
      "source": [
        "df_train['text_clean'] = df_train.text.apply(cleansing)"
      ]
    },
    {
      "cell_type": "code",
      "execution_count": null,
      "metadata": {
        "colab": {
          "base_uri": "https://localhost:8080/",
          "height": 206
        },
        "id": "VgBfvHUYPIqQ",
        "outputId": "9a1b4eef-f14a-4b3f-a49e-380b16a580bb"
      },
      "outputs": [
        {
          "output_type": "execute_result",
          "data": {
            "text/plain": [
              "                                                text     label  \\\n",
              "0  warung ini dimiliki oleh pengusaha pabrik tahu...  positive   \n",
              "1  mohon ulama lurus dan k212 mmbri hujjah partai...   neutral   \n",
              "2  lokasi strategis di jalan sumatera bandung . t...  positive   \n",
              "3  betapa bahagia nya diri ini saat unboxing pake...  positive   \n",
              "4  duh . jadi mahasiswa jangan sombong dong . kas...  negative   \n",
              "\n",
              "                                          text_clean  \n",
              "0  warung ini dimiliki oleh pengusaha pabrik tahu...  \n",
              "1  mohon ulama lurus dan k212 mmbri hujjah partai...  \n",
              "2  lokasi strategis di jalan sumatera bandung   t...  \n",
              "3  betapa bahagia nya diri ini saat unboxing pake...  \n",
              "4  duh   jadi mahasiswa jangan sombong dong   kas...  "
            ],
            "text/html": [
              "\n",
              "  <div id=\"df-4fb9c6b3-9e95-4d9e-8791-766822b5fdd9\" class=\"colab-df-container\">\n",
              "    <div>\n",
              "<style scoped>\n",
              "    .dataframe tbody tr th:only-of-type {\n",
              "        vertical-align: middle;\n",
              "    }\n",
              "\n",
              "    .dataframe tbody tr th {\n",
              "        vertical-align: top;\n",
              "    }\n",
              "\n",
              "    .dataframe thead th {\n",
              "        text-align: right;\n",
              "    }\n",
              "</style>\n",
              "<table border=\"1\" class=\"dataframe\">\n",
              "  <thead>\n",
              "    <tr style=\"text-align: right;\">\n",
              "      <th></th>\n",
              "      <th>text</th>\n",
              "      <th>label</th>\n",
              "      <th>text_clean</th>\n",
              "    </tr>\n",
              "  </thead>\n",
              "  <tbody>\n",
              "    <tr>\n",
              "      <th>0</th>\n",
              "      <td>warung ini dimiliki oleh pengusaha pabrik tahu...</td>\n",
              "      <td>positive</td>\n",
              "      <td>warung ini dimiliki oleh pengusaha pabrik tahu...</td>\n",
              "    </tr>\n",
              "    <tr>\n",
              "      <th>1</th>\n",
              "      <td>mohon ulama lurus dan k212 mmbri hujjah partai...</td>\n",
              "      <td>neutral</td>\n",
              "      <td>mohon ulama lurus dan k212 mmbri hujjah partai...</td>\n",
              "    </tr>\n",
              "    <tr>\n",
              "      <th>2</th>\n",
              "      <td>lokasi strategis di jalan sumatera bandung . t...</td>\n",
              "      <td>positive</td>\n",
              "      <td>lokasi strategis di jalan sumatera bandung   t...</td>\n",
              "    </tr>\n",
              "    <tr>\n",
              "      <th>3</th>\n",
              "      <td>betapa bahagia nya diri ini saat unboxing pake...</td>\n",
              "      <td>positive</td>\n",
              "      <td>betapa bahagia nya diri ini saat unboxing pake...</td>\n",
              "    </tr>\n",
              "    <tr>\n",
              "      <th>4</th>\n",
              "      <td>duh . jadi mahasiswa jangan sombong dong . kas...</td>\n",
              "      <td>negative</td>\n",
              "      <td>duh   jadi mahasiswa jangan sombong dong   kas...</td>\n",
              "    </tr>\n",
              "  </tbody>\n",
              "</table>\n",
              "</div>\n",
              "    <div class=\"colab-df-buttons\">\n",
              "\n",
              "  <div class=\"colab-df-container\">\n",
              "    <button class=\"colab-df-convert\" onclick=\"convertToInteractive('df-4fb9c6b3-9e95-4d9e-8791-766822b5fdd9')\"\n",
              "            title=\"Convert this dataframe to an interactive table.\"\n",
              "            style=\"display:none;\">\n",
              "\n",
              "  <svg xmlns=\"http://www.w3.org/2000/svg\" height=\"24px\" viewBox=\"0 -960 960 960\">\n",
              "    <path d=\"M120-120v-720h720v720H120Zm60-500h600v-160H180v160Zm220 220h160v-160H400v160Zm0 220h160v-160H400v160ZM180-400h160v-160H180v160Zm440 0h160v-160H620v160ZM180-180h160v-160H180v160Zm440 0h160v-160H620v160Z\"/>\n",
              "  </svg>\n",
              "    </button>\n",
              "\n",
              "  <style>\n",
              "    .colab-df-container {\n",
              "      display:flex;\n",
              "      gap: 12px;\n",
              "    }\n",
              "\n",
              "    .colab-df-convert {\n",
              "      background-color: #E8F0FE;\n",
              "      border: none;\n",
              "      border-radius: 50%;\n",
              "      cursor: pointer;\n",
              "      display: none;\n",
              "      fill: #1967D2;\n",
              "      height: 32px;\n",
              "      padding: 0 0 0 0;\n",
              "      width: 32px;\n",
              "    }\n",
              "\n",
              "    .colab-df-convert:hover {\n",
              "      background-color: #E2EBFA;\n",
              "      box-shadow: 0px 1px 2px rgba(60, 64, 67, 0.3), 0px 1px 3px 1px rgba(60, 64, 67, 0.15);\n",
              "      fill: #174EA6;\n",
              "    }\n",
              "\n",
              "    .colab-df-buttons div {\n",
              "      margin-bottom: 4px;\n",
              "    }\n",
              "\n",
              "    [theme=dark] .colab-df-convert {\n",
              "      background-color: #3B4455;\n",
              "      fill: #D2E3FC;\n",
              "    }\n",
              "\n",
              "    [theme=dark] .colab-df-convert:hover {\n",
              "      background-color: #434B5C;\n",
              "      box-shadow: 0px 1px 3px 1px rgba(0, 0, 0, 0.15);\n",
              "      filter: drop-shadow(0px 1px 2px rgba(0, 0, 0, 0.3));\n",
              "      fill: #FFFFFF;\n",
              "    }\n",
              "  </style>\n",
              "\n",
              "    <script>\n",
              "      const buttonEl =\n",
              "        document.querySelector('#df-4fb9c6b3-9e95-4d9e-8791-766822b5fdd9 button.colab-df-convert');\n",
              "      buttonEl.style.display =\n",
              "        google.colab.kernel.accessAllowed ? 'block' : 'none';\n",
              "\n",
              "      async function convertToInteractive(key) {\n",
              "        const element = document.querySelector('#df-4fb9c6b3-9e95-4d9e-8791-766822b5fdd9');\n",
              "        const dataTable =\n",
              "          await google.colab.kernel.invokeFunction('convertToInteractive',\n",
              "                                                    [key], {});\n",
              "        if (!dataTable) return;\n",
              "\n",
              "        const docLinkHtml = 'Like what you see? Visit the ' +\n",
              "          '<a target=\"_blank\" href=https://colab.research.google.com/notebooks/data_table.ipynb>data table notebook</a>'\n",
              "          + ' to learn more about interactive tables.';\n",
              "        element.innerHTML = '';\n",
              "        dataTable['output_type'] = 'display_data';\n",
              "        await google.colab.output.renderOutput(dataTable, element);\n",
              "        const docLink = document.createElement('div');\n",
              "        docLink.innerHTML = docLinkHtml;\n",
              "        element.appendChild(docLink);\n",
              "      }\n",
              "    </script>\n",
              "  </div>\n",
              "\n",
              "\n",
              "<div id=\"df-205eed41-4fc6-4b33-942b-e5bba57f69ea\">\n",
              "  <button class=\"colab-df-quickchart\" onclick=\"quickchart('df-205eed41-4fc6-4b33-942b-e5bba57f69ea')\"\n",
              "            title=\"Suggest charts\"\n",
              "            style=\"display:none;\">\n",
              "\n",
              "<svg xmlns=\"http://www.w3.org/2000/svg\" height=\"24px\"viewBox=\"0 0 24 24\"\n",
              "     width=\"24px\">\n",
              "    <g>\n",
              "        <path d=\"M19 3H5c-1.1 0-2 .9-2 2v14c0 1.1.9 2 2 2h14c1.1 0 2-.9 2-2V5c0-1.1-.9-2-2-2zM9 17H7v-7h2v7zm4 0h-2V7h2v10zm4 0h-2v-4h2v4z\"/>\n",
              "    </g>\n",
              "</svg>\n",
              "  </button>\n",
              "\n",
              "<style>\n",
              "  .colab-df-quickchart {\n",
              "      --bg-color: #E8F0FE;\n",
              "      --fill-color: #1967D2;\n",
              "      --hover-bg-color: #E2EBFA;\n",
              "      --hover-fill-color: #174EA6;\n",
              "      --disabled-fill-color: #AAA;\n",
              "      --disabled-bg-color: #DDD;\n",
              "  }\n",
              "\n",
              "  [theme=dark] .colab-df-quickchart {\n",
              "      --bg-color: #3B4455;\n",
              "      --fill-color: #D2E3FC;\n",
              "      --hover-bg-color: #434B5C;\n",
              "      --hover-fill-color: #FFFFFF;\n",
              "      --disabled-bg-color: #3B4455;\n",
              "      --disabled-fill-color: #666;\n",
              "  }\n",
              "\n",
              "  .colab-df-quickchart {\n",
              "    background-color: var(--bg-color);\n",
              "    border: none;\n",
              "    border-radius: 50%;\n",
              "    cursor: pointer;\n",
              "    display: none;\n",
              "    fill: var(--fill-color);\n",
              "    height: 32px;\n",
              "    padding: 0;\n",
              "    width: 32px;\n",
              "  }\n",
              "\n",
              "  .colab-df-quickchart:hover {\n",
              "    background-color: var(--hover-bg-color);\n",
              "    box-shadow: 0 1px 2px rgba(60, 64, 67, 0.3), 0 1px 3px 1px rgba(60, 64, 67, 0.15);\n",
              "    fill: var(--button-hover-fill-color);\n",
              "  }\n",
              "\n",
              "  .colab-df-quickchart-complete:disabled,\n",
              "  .colab-df-quickchart-complete:disabled:hover {\n",
              "    background-color: var(--disabled-bg-color);\n",
              "    fill: var(--disabled-fill-color);\n",
              "    box-shadow: none;\n",
              "  }\n",
              "\n",
              "  .colab-df-spinner {\n",
              "    border: 2px solid var(--fill-color);\n",
              "    border-color: transparent;\n",
              "    border-bottom-color: var(--fill-color);\n",
              "    animation:\n",
              "      spin 1s steps(1) infinite;\n",
              "  }\n",
              "\n",
              "  @keyframes spin {\n",
              "    0% {\n",
              "      border-color: transparent;\n",
              "      border-bottom-color: var(--fill-color);\n",
              "      border-left-color: var(--fill-color);\n",
              "    }\n",
              "    20% {\n",
              "      border-color: transparent;\n",
              "      border-left-color: var(--fill-color);\n",
              "      border-top-color: var(--fill-color);\n",
              "    }\n",
              "    30% {\n",
              "      border-color: transparent;\n",
              "      border-left-color: var(--fill-color);\n",
              "      border-top-color: var(--fill-color);\n",
              "      border-right-color: var(--fill-color);\n",
              "    }\n",
              "    40% {\n",
              "      border-color: transparent;\n",
              "      border-right-color: var(--fill-color);\n",
              "      border-top-color: var(--fill-color);\n",
              "    }\n",
              "    60% {\n",
              "      border-color: transparent;\n",
              "      border-right-color: var(--fill-color);\n",
              "    }\n",
              "    80% {\n",
              "      border-color: transparent;\n",
              "      border-right-color: var(--fill-color);\n",
              "      border-bottom-color: var(--fill-color);\n",
              "    }\n",
              "    90% {\n",
              "      border-color: transparent;\n",
              "      border-bottom-color: var(--fill-color);\n",
              "    }\n",
              "  }\n",
              "</style>\n",
              "\n",
              "  <script>\n",
              "    async function quickchart(key) {\n",
              "      const quickchartButtonEl =\n",
              "        document.querySelector('#' + key + ' button');\n",
              "      quickchartButtonEl.disabled = true;  // To prevent multiple clicks.\n",
              "      quickchartButtonEl.classList.add('colab-df-spinner');\n",
              "      try {\n",
              "        const charts = await google.colab.kernel.invokeFunction(\n",
              "            'suggestCharts', [key], {});\n",
              "      } catch (error) {\n",
              "        console.error('Error during call to suggestCharts:', error);\n",
              "      }\n",
              "      quickchartButtonEl.classList.remove('colab-df-spinner');\n",
              "      quickchartButtonEl.classList.add('colab-df-quickchart-complete');\n",
              "    }\n",
              "    (() => {\n",
              "      let quickchartButtonEl =\n",
              "        document.querySelector('#df-205eed41-4fc6-4b33-942b-e5bba57f69ea button');\n",
              "      quickchartButtonEl.style.display =\n",
              "        google.colab.kernel.accessAllowed ? 'block' : 'none';\n",
              "    })();\n",
              "  </script>\n",
              "</div>\n",
              "\n",
              "    </div>\n",
              "  </div>\n"
            ],
            "application/vnd.google.colaboratory.intrinsic+json": {
              "type": "dataframe",
              "variable_name": "df_train",
              "summary": "{\n  \"name\": \"df_train\",\n  \"rows\": 11000,\n  \"fields\": [\n    {\n      \"column\": \"text\",\n      \"properties\": {\n        \"dtype\": \"string\",\n        \"num_unique_values\": 10933,\n        \"samples\": [\n          \"ikan laut di aceh masih mahal\",\n          \"pizza sama coffie nya enak , harga nya juga murah banget hehehe sewaktu ke sini dulu waktu hujan jadi bisa sambil santai lama sekali :\",\n          \"kalau mau merasakan roti zaman dahulu , ini salah satu tempat nya . buka nya hanya sampai sore , jadi kalau pulang kantor kadang tidak keburu ke sini\"\n        ],\n        \"semantic_type\": \"\",\n        \"description\": \"\"\n      }\n    },\n    {\n      \"column\": \"label\",\n      \"properties\": {\n        \"dtype\": \"category\",\n        \"num_unique_values\": 3,\n        \"samples\": [\n          \"positive\",\n          \"neutral\",\n          \"negative\"\n        ],\n        \"semantic_type\": \"\",\n        \"description\": \"\"\n      }\n    },\n    {\n      \"column\": \"text_clean\",\n      \"properties\": {\n        \"dtype\": \"string\",\n        \"num_unique_values\": 10932,\n        \"samples\": [\n          \"ikan laut di aceh masih mahal\",\n          \"pizza sama coffie nya enak   harga nya juga murah banget hehehe sewaktu ke sini dulu waktu hujan jadi bisa sambil santai lama sekali  \",\n          \"kalau mau merasakan roti zaman dahulu   ini salah satu tempat nya   buka nya hanya sampai sore   jadi kalau pulang kantor kadang tidak keburu ke sini\"\n        ],\n        \"semantic_type\": \"\",\n        \"description\": \"\"\n      }\n    }\n  ]\n}"
            }
          },
          "metadata": {},
          "execution_count": 9
        }
      ],
      "source": [
        "df_train.head()"
      ]
    },
    {
      "cell_type": "code",
      "execution_count": null,
      "metadata": {
        "id": "qIdiMUmDPN7U"
      },
      "outputs": [],
      "source": [
        "neg = df_train.loc[df_train['label'] == 'negative'].text_clean.tolist()\n",
        "neu = df_train.loc[df_train['label'] == 'neutral'].text_clean.tolist()\n",
        "pos = df_train.loc[df_train['label'] == 'positive'].text_clean.tolist()\n",
        "\n",
        "neg_label = df_train.loc[df_train['label'] == 'negative'].label.tolist()\n",
        "neu_label = df_train.loc[df_train['label'] == 'neutral'].label.tolist()\n",
        "pos_label = df_train.loc[df_train['label'] == 'positive'].label.tolist()"
      ]
    },
    {
      "cell_type": "code",
      "execution_count": null,
      "metadata": {
        "colab": {
          "base_uri": "https://localhost:8080/"
        },
        "id": "PnVri1xgPjkH",
        "outputId": "b3a8b4ac-28a6-4f88-d7c3-b740c9d1f845"
      },
      "outputs": [
        {
          "output_type": "stream",
          "name": "stdout",
          "text": [
            "Pos: 6416, Neu: 1148, Neg: 3436\n",
            "Total data: 11000\n"
          ]
        }
      ],
      "source": [
        "total_data = pos + neu + neg\n",
        "labels = pos_label + neu_label + neg_label\n",
        "\n",
        "print(\"Pos: %s, Neu: %s, Neg: %s\" % (len(pos), len(neu), len(neg)))\n",
        "print(\"Total data: %s\" % len(total_data))"
      ]
    },
    {
      "cell_type": "code",
      "execution_count": null,
      "metadata": {
        "colab": {
          "base_uri": "https://localhost:8080/"
        },
        "id": "RuKMjvsCPmAA",
        "outputId": "1e555860-c1d5-4732-a10c-809ad8175076"
      },
      "outputs": [
        {
          "output_type": "stream",
          "name": "stdout",
          "text": [
            "tokenizer.pickle has created!\n",
            "x_pad_sequences.pickle has created!\n"
          ]
        }
      ],
      "source": [
        "max_features = 100000\n",
        "tokenizer = Tokenizer(num_words=max_features, split=' ', lower=True)\n",
        "tokenizer.fit_on_texts(total_data)\n",
        "with open('tokenizer.pickle', 'wb') as handle:\n",
        "    pickle.dump(tokenizer, handle, protocol=pickle.HIGHEST_PROTOCOL)\n",
        "    print(\"tokenizer.pickle has created!\")\n",
        "\n",
        "X = tokenizer.texts_to_sequences(total_data)\n",
        "\n",
        "vocab_size = len(tokenizer.word_index)\n",
        "maxlen = max(len(x) for x in X)\n",
        "\n",
        "X = pad_sequences(X)\n",
        "with open('x_pad_sequences.pickle', 'wb') as handle:\n",
        "    pickle.dump(X, handle, protocol=pickle.HIGHEST_PROTOCOL)\n",
        "    print(\"x_pad_sequences.pickle has created!\")"
      ]
    },
    {
      "cell_type": "code",
      "execution_count": null,
      "metadata": {
        "colab": {
          "base_uri": "https://localhost:8080/"
        },
        "id": "lsnfuEXVQTyO",
        "outputId": "1a76ba97-1cc7-418b-e985-bee963403531"
      },
      "outputs": [
        {
          "output_type": "stream",
          "name": "stdout",
          "text": [
            "y_labels.pickle has created!\n"
          ]
        }
      ],
      "source": [
        "Y = pd.get_dummies(labels)\n",
        "Y = Y.values\n",
        "\n",
        "with open('y_labels.pickle', 'wb') as handle:\n",
        "    pickle.dump(Y, handle, protocol=pickle.HIGHEST_PROTOCOL)\n",
        "    print(\"y_labels.pickle has created!\")"
      ]
    },
    {
      "cell_type": "markdown",
      "metadata": {
        "id": "FLLc531iQisB"
      },
      "source": [
        "##Data Splitting"
      ]
    },
    {
      "cell_type": "code",
      "execution_count": null,
      "metadata": {
        "id": "L0c6bSmvQYkS"
      },
      "outputs": [],
      "source": [
        "file = open(\"x_pad_sequences.pickle\",'rb')\n",
        "X = pickle.load(file)\n",
        "file.close()\n",
        "\n",
        "file = open(\"y_labels.pickle\",'rb')\n",
        "Y = pickle.load(file)\n",
        "file.close()\n",
        "\n",
        "X_train, X_test, y_train, y_test = train_test_split(X, Y, test_size=0.2, random_state=1)"
      ]
    },
    {
      "cell_type": "markdown",
      "source": [
        "#Data Modelling"
      ],
      "metadata": {
        "id": "afDkXgfni49M"
      }
    },
    {
      "cell_type": "markdown",
      "metadata": {
        "id": "UILDzpK8Q_CF"
      },
      "source": [
        "##Data Training"
      ]
    },
    {
      "cell_type": "code",
      "execution_count": null,
      "metadata": {
        "colab": {
          "base_uri": "https://localhost:8080/"
        },
        "id": "_0KIYDQxQxl2",
        "outputId": "75571dad-14a1-4ab6-f772-cb4980997dec"
      },
      "outputs": [
        {
          "output_type": "stream",
          "name": "stdout",
          "text": [
            "Model: \"sequential\"\n",
            "_________________________________________________________________\n",
            " Layer (type)                Output Shape              Param #   \n",
            "=================================================================\n",
            " embedding (Embedding)       (None, 96, 100)           10000000  \n",
            "                                                                 \n",
            " lstm (LSTM)                 (None, 64)                42240     \n",
            "                                                                 \n",
            " dense (Dense)               (None, 3)                 195       \n",
            "                                                                 \n",
            "=================================================================\n",
            "Total params: 10042435 (38.31 MB)\n",
            "Trainable params: 10042435 (38.31 MB)\n",
            "Non-trainable params: 0 (0.00 Byte)\n",
            "_________________________________________________________________\n"
          ]
        },
        {
          "output_type": "stream",
          "name": "stderr",
          "text": [
            "WARNING:absl:`lr` is deprecated in Keras optimizer, please use `learning_rate` or use the legacy optimizer, e.g.,tf.keras.optimizers.legacy.Adam.\n"
          ]
        },
        {
          "output_type": "stream",
          "name": "stdout",
          "text": [
            "None\n",
            "Epoch 1/10\n",
            "880/880 [==============================] - 261s 291ms/step - loss: 0.4592 - accuracy: 0.8149 - val_loss: 0.3404 - val_accuracy: 0.8759\n",
            "Epoch 2/10\n",
            "880/880 [==============================] - 275s 313ms/step - loss: 0.2004 - accuracy: 0.9291 - val_loss: 0.3485 - val_accuracy: 0.8745\n",
            "Epoch 2: early stopping\n"
          ]
        }
      ],
      "source": [
        "embed_dim = 100\n",
        "units = 64\n",
        "\n",
        "model = Sequential()\n",
        "model.add(Embedding(max_features, embed_dim, input_length=X.shape[1]))\n",
        "model.add(LSTM(units, dropout=0.2))\n",
        "model.add(Dense(3,activation='softmax'))\n",
        "model.compile(loss = 'binary_crossentropy', optimizer='adam',metrics = ['accuracy'])\n",
        "print(model.summary())\n",
        "\n",
        "adam = optimizers.Adam(lr = 0.001)\n",
        "model.compile(loss = 'categorical_crossentropy', optimizer = adam, metrics = ['accuracy'])\n",
        "\n",
        "es = EarlyStopping(monitor='val_loss', mode='min', verbose=1)\n",
        "history = model.fit(X_train, y_train, epochs=10, batch_size=10, validation_data=(X_test, y_test), verbose=1, callbacks=[es])"
      ]
    },
    {
      "cell_type": "code",
      "execution_count": null,
      "metadata": {
        "id": "t0HC6gjwXfYZ"
      },
      "outputs": [],
      "source": [
        "pickle.dump(model, open(\"model_lstm.p\", \"wb\"))"
      ]
    },
    {
      "cell_type": "markdown",
      "metadata": {
        "id": "3lRc2BNwXpbk"
      },
      "source": [
        "#Data Evaluation"
      ]
    },
    {
      "cell_type": "markdown",
      "metadata": {
        "id": "SaNYoRR5X74b"
      },
      "source": [
        "###Matrix Test"
      ]
    },
    {
      "cell_type": "code",
      "execution_count": null,
      "metadata": {
        "colab": {
          "base_uri": "https://localhost:8080/"
        },
        "id": "xxsD1fbQXlnm",
        "outputId": "62214dc0-eb26-4225-8787-9e292e158dbf"
      },
      "outputs": [
        {
          "output_type": "stream",
          "name": "stdout",
          "text": [
            "69/69 [==============================] - 2s 17ms/step\n",
            "Testing selesai\n",
            "              precision    recall  f1-score   support\n",
            "\n",
            "           0       0.80      0.86      0.83       685\n",
            "           1       0.88      0.73      0.80       233\n",
            "           2       0.91      0.91      0.91      1282\n",
            "\n",
            "    accuracy                           0.87      2200\n",
            "   macro avg       0.87      0.83      0.85      2200\n",
            "weighted avg       0.88      0.87      0.87      2200\n",
            "\n"
          ]
        }
      ],
      "source": [
        "predictions = model.predict(X_test)\n",
        "y_pred = predictions\n",
        "matrix_test = metrics.classification_report(y_test.argmax(axis=1), y_pred.argmax(axis=1))\n",
        "print(\"Testing selesai\")\n",
        "print(matrix_test)"
      ]
    },
    {
      "cell_type": "markdown",
      "metadata": {
        "id": "CdDu1Wc2X_mW"
      },
      "source": [
        "###Cross Validation"
      ]
    },
    {
      "cell_type": "code",
      "execution_count": null,
      "metadata": {
        "colab": {
          "base_uri": "https://localhost:8080/"
        },
        "id": "zOf8LC5bYHKk",
        "outputId": "f2b91d46-ac0b-4a30-ae8f-c34f33cf7963"
      },
      "outputs": [
        {
          "metadata": {
            "tags": null
          },
          "name": "stderr",
          "output_type": "stream",
          "text": [
            "WARNING:absl:`lr` is deprecated in Keras optimizer, please use `learning_rate` or use the legacy optimizer, e.g.,tf.keras.optimizers.legacy.Adam.\n"
          ]
        },
        {
          "metadata": {
            "tags": null
          },
          "name": "stdout",
          "output_type": "stream",
          "text": [
            "69/69 [==============================] - 2s 17ms/step\n",
            "Training ke- 1\n",
            "              precision    recall  f1-score   support\n",
            "\n",
            "           0       0.86      0.79      0.82       685\n",
            "           1       0.83      0.82      0.82       233\n",
            "           2       0.89      0.93      0.91      1282\n",
            "\n",
            "    accuracy                           0.87      2200\n",
            "   macro avg       0.86      0.84      0.85      2200\n",
            "weighted avg       0.87      0.87      0.87      2200\n",
            "\n",
            "======================================================\n"
          ]
        },
        {
          "metadata": {
            "tags": null
          },
          "name": "stderr",
          "output_type": "stream",
          "text": [
            "WARNING:absl:`lr` is deprecated in Keras optimizer, please use `learning_rate` or use the legacy optimizer, e.g.,tf.keras.optimizers.legacy.Adam.\n"
          ]
        },
        {
          "metadata": {
            "tags": null
          },
          "name": "stdout",
          "output_type": "stream",
          "text": [
            "69/69 [==============================] - 2s 17ms/step\n",
            "Training ke- 2\n",
            "              precision    recall  f1-score   support\n",
            "\n",
            "           0       0.84      0.81      0.82       685\n",
            "           1       0.80      0.75      0.77       233\n",
            "           2       0.90      0.93      0.92      1282\n",
            "\n",
            "    accuracy                           0.87      2200\n",
            "   macro avg       0.84      0.83      0.84      2200\n",
            "weighted avg       0.87      0.87      0.87      2200\n",
            "\n",
            "======================================================\n"
          ]
        },
        {
          "metadata": {
            "tags": null
          },
          "name": "stderr",
          "output_type": "stream",
          "text": [
            "WARNING:absl:`lr` is deprecated in Keras optimizer, please use `learning_rate` or use the legacy optimizer, e.g.,tf.keras.optimizers.legacy.Adam.\n"
          ]
        },
        {
          "metadata": {
            "tags": null
          },
          "name": "stdout",
          "output_type": "stream",
          "text": [
            "69/69 [==============================] - 2s 16ms/step\n",
            "Training ke- 3\n",
            "              precision    recall  f1-score   support\n",
            "\n",
            "           0       0.87      0.75      0.80       685\n",
            "           1       0.81      0.78      0.80       233\n",
            "           2       0.88      0.95      0.91      1282\n",
            "\n",
            "    accuracy                           0.87      2200\n",
            "   macro avg       0.85      0.83      0.84      2200\n",
            "weighted avg       0.87      0.87      0.87      2200\n",
            "\n",
            "======================================================\n"
          ]
        },
        {
          "metadata": {
            "tags": null
          },
          "name": "stderr",
          "output_type": "stream",
          "text": [
            "WARNING:absl:`lr` is deprecated in Keras optimizer, please use `learning_rate` or use the legacy optimizer, e.g.,tf.keras.optimizers.legacy.Adam.\n"
          ]
        },
        {
          "metadata": {
            "tags": null
          },
          "name": "stdout",
          "output_type": "stream",
          "text": [
            "69/69 [==============================] - 2s 17ms/step\n",
            "Training ke- 4\n",
            "              precision    recall  f1-score   support\n",
            "\n",
            "           0       0.81      0.87      0.84       685\n",
            "           1       0.85      0.74      0.79       233\n",
            "           2       0.92      0.91      0.91      1282\n",
            "\n",
            "    accuracy                           0.88      2200\n",
            "   macro avg       0.86      0.84      0.85      2200\n",
            "weighted avg       0.88      0.88      0.88      2200\n",
            "\n",
            "======================================================\n"
          ]
        },
        {
          "metadata": {
            "tags": null
          },
          "name": "stderr",
          "output_type": "stream",
          "text": [
            "WARNING:absl:`lr` is deprecated in Keras optimizer, please use `learning_rate` or use the legacy optimizer, e.g.,tf.keras.optimizers.legacy.Adam.\n"
          ]
        },
        {
          "output_type": "stream",
          "name": "stdout",
          "text": [
            "69/69 [==============================] - 2s 27ms/step\n",
            "Training ke- 5\n",
            "              precision    recall  f1-score   support\n",
            "\n",
            "           0       0.86      0.77      0.82       685\n",
            "           1       0.75      0.85      0.80       233\n",
            "           2       0.90      0.93      0.91      1282\n",
            "\n",
            "    accuracy                           0.87      2200\n",
            "   macro avg       0.84      0.85      0.84      2200\n",
            "weighted avg       0.87      0.87      0.87      2200\n",
            "\n",
            "======================================================\n",
            "\n",
            "\n",
            "\n",
            "Rata-rata Accuracy:  0.8723636363636365\n"
          ]
        }
      ],
      "source": [
        "kf = KFold(n_splits=5,random_state=42,shuffle=True)\n",
        "\n",
        "accuracies = []\n",
        "\n",
        "y = Y\n",
        "\n",
        "embed_dim = 100\n",
        "units = 64\n",
        "\n",
        "for iteration, data in enumerate(kf.split(X), start=1):\n",
        "\n",
        "    data_train   = X[data[0]]\n",
        "    target_train = y[data[0]]\n",
        "\n",
        "    data_test    = X[data[1]]\n",
        "    target_test  = y[data[1]]\n",
        "\n",
        "\n",
        "    model = Sequential()\n",
        "    model.add(Embedding(max_features, embed_dim, input_length=X.shape[1]))\n",
        "    model.add(LSTM(units, dropout=0.2))\n",
        "    model.add(Dense(3,activation='softmax'))\n",
        "    model.compile(loss = 'binary_crossentropy', optimizer='adam',metrics = ['accuracy'])\n",
        "\n",
        "    adam = optimizers.Adam(lr = 0.001)\n",
        "    model.compile(loss = 'categorical_crossentropy', optimizer = adam, metrics = ['accuracy'])\n",
        "\n",
        "    es = EarlyStopping(monitor='val_loss', mode='min', verbose=0)\n",
        "    history = model.fit(X_train, y_train, epochs=10, batch_size=10, validation_data=(X_test, y_test), verbose=0, callbacks=[es])\n",
        "\n",
        "    predictions = model.predict(X_test)\n",
        "    y_pred = predictions\n",
        "\n",
        "    # for the current fold only\n",
        "    accuracy = accuracy_score(y_test.argmax(axis=1), y_pred.argmax(axis=1))\n",
        "\n",
        "    print(\"Training ke-\", iteration)\n",
        "    print(classification_report(y_test.argmax(axis=1), y_pred.argmax(axis=1)))\n",
        "    print(\"======================================================\")\n",
        "\n",
        "    accuracies.append(accuracy)\n",
        "\n",
        "# this is the average accuracy over all folds\n",
        "average_accuracy = np.mean(accuracies)\n",
        "\n",
        "print()\n",
        "print()\n",
        "print()\n",
        "print(\"Rata-rata Accuracy: \", average_accuracy)"
      ]
    },
    {
      "cell_type": "code",
      "execution_count": null,
      "metadata": {
        "colab": {
          "base_uri": "https://localhost:8080/",
          "height": 407
        },
        "id": "Qh7-RcbQtRt5",
        "outputId": "3f52c9b4-7d9b-4c4c-9405-cfd3927c3785"
      },
      "outputs": [
        {
          "output_type": "display_data",
          "data": {
            "text/plain": [
              "<Figure size 1200x500 with 2 Axes>"
            ],
            "image/png": "[encoded data removed]"
          },
          "metadata": {}
        }
      ],
      "source": [
        "def plot_history(history):\n",
        "    acc = history.history['accuracy']\n",
        "    val_acc = history.history['val_accuracy']\n",
        "    loss = history.history['loss']\n",
        "    val_loss = history.history['val_loss']\n",
        "    x = range(1, len(acc) + 1)\n",
        "\n",
        "    plt.figure(figsize=(12, 5))\n",
        "    plt.subplot(1, 2, 1)\n",
        "    plt.plot(x, acc, 'b', label='Training acc')\n",
        "    plt.plot(x, val_acc, 'r', label='Validation acc')\n",
        "    plt.title('Training and validation accuracy')\n",
        "    plt.legend()\n",
        "    plt.subplot(1, 2, 2)\n",
        "    plt.plot(x, loss, 'b', label='Training loss')\n",
        "    plt.plot(x, val_loss, 'r', label='Validation loss')\n",
        "    plt.title('Training and validation loss')\n",
        "    plt.legend()\n",
        "\n",
        "%matplotlib inline\n",
        "plot_history(history)"
      ]
    },
    {
      "cell_type": "code",
      "execution_count": null,
      "metadata": {
        "id": "lWRcW3HCvluw",
        "colab": {
          "base_uri": "https://localhost:8080/"
        },
        "outputId": "5ae90763-27d1-46ac-a538-1622eb888d9a"
      },
      "outputs": [
        {
          "output_type": "stream",
          "name": "stderr",
          "text": [
            "/usr/local/lib/python3.10/dist-packages/keras/src/engine/training.py:3103: UserWarning: You are saving your model as an HDF5 file via `model.save()`. This file format is considered legacy. We recommend using instead the native Keras format, e.g. `model.save('my_model.keras')`.\n",
            "  saving_api.save_model(\n"
          ]
        },
        {
          "output_type": "stream",
          "name": "stdout",
          "text": [
            "Model has created!\n"
          ]
        }
      ],
      "source": [
        "model.save('drive/MyDrive/DSC20/modellstm.h5')\n",
        "print(\"Model has created!\")"
      ]
    },
    {
      "cell_type": "markdown",
      "source": [
        "#Data Testing"
      ],
      "metadata": {
        "id": "Xr0YWt3UrpDE"
      }
    },
    {
      "cell_type": "code",
      "execution_count": null,
      "metadata": {
        "colab": {
          "base_uri": "https://localhost:8080/"
        },
        "id": "QqRgbrfGxZe5",
        "outputId": "bb0d4200-0d05-4816-bd8e-f66efd7ed5c1"
      },
      "outputs": [
        {
          "output_type": "stream",
          "name": "stdout",
          "text": [
            "1/1 [==============================] - 1s 1s/step\n",
            "Text:   membuat orang itu mati  harus mati  \n",
            "Sentiment:  negative\n"
          ]
        }
      ],
      "source": [
        "input_text = \"\"\"\n",
        "Membuat orang itu mati, harus mati.\n",
        "\"\"\"\n",
        "\n",
        "def cleansing(sent):\n",
        "    # Mengubah kata menjadi huruf kecil semua dengan menggunakan fungsi lower()\n",
        "    string = sent.lower()\n",
        "    # Menghapus emoticon dan tanda baca menggunakan \"RegEx\" dengan script di bawah\n",
        "    string = re.sub(r'[^a-zA-Z0-9]', ' ', string)\n",
        "    return string\n",
        "\n",
        "sentiment = ['negative', 'neutral', 'positive']\n",
        "\n",
        "text = [cleansing(input_text)]\n",
        "predicted = tokenizer.texts_to_sequences(text)\n",
        "guess = pad_sequences(predicted, maxlen=X.shape[1])\n",
        "\n",
        "model = load_model('drive/MyDrive/DSC20/modellstm.h5')\n",
        "prediction = model.predict(guess)\n",
        "polarity = np.argmax(prediction[0])\n",
        "\n",
        "print(\"Text: \",text[0])\n",
        "print(\"Sentiment: \",sentiment[polarity])"
      ]
    }
  ],
  "metadata": {
    "colab": {
      "provenance": [],
      "toc_visible": true
    },
    "kernelspec": {
      "display_name": "Python 3",
      "name": "python3"
    },
    "language_info": {
      "name": "python"
    }
  },
  "nbformat": 4,
  "nbformat_minor": 0
}