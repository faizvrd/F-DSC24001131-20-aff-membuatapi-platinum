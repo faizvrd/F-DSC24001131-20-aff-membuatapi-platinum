{
 "cells": [
  {
   "cell_type": "code",
   "execution_count": 1,
   "id": "4072a0ba",
   "metadata": {},
   "outputs": [],
   "source": [
    "import pickle, re\n",
    "import numpy as np\n",
    "\n",
    "\n",
    "from flask import Flask, jsonify\n",
    "\n",
    "app = Flask(__name__)\n",
    "\n",
    "from flask import request\n",
    "from flasgger import Swagger, LazyString, LazyJSONEncoder\n",
    "from flasgger import swag_from\n",
    "from tensorflow.keras.preprocessing.text import Tokenizer\n",
    "from keras.models import load_model\n",
    "from tensorflow.keras.preprocessing.sequence import pad_sequences\n",
    "\n",
    "app.json_encoder = LazyJSONEncoder\n",
    "\n",
    "swagger_template = dict(\n",
    "    info = {\n",
    "        'title': LazyString(lambda: 'API Documentation for Deep Learning'),\n",
    "        'version': LazyString(lambda: '1.0.0'),\n",
    "        'description': LazyString(lambda: 'Dokumentasi API untuk Deep Learning'),\n",
    "    },\n",
    "    host = LazyString(lambda: request.host)\n",
    ")\n",
    "\n",
    "swagger_config = {\n",
    "\t\"headers\" : [],\n",
    "\t\"specs\" : [\n",
    "\t\t{\n",
    "\t\t\t\"endpoint\" : 'docs',\n",
    "\t\t\t\"route\" : '/docs.json'\n",
    "\t\t}\n",
    "\t],\n",
    "\t\"static_url_path\" : \"/flasgger_static\",\n",
    "\t\"swagger_ui\" : True,\n",
    "\t\"specs_route\" : \"/docs/\"\n",
    "}\n",
    "\n",
    "\n",
    "swagger = Swagger(app, template=swagger_template,             \n",
    "                  config=swagger_config)"
   ]
  },
  {
   "cell_type": "code",
   "execution_count": 2,
   "id": "5e4ed9bf-7f78-4ecc-aacf-63533675f5fd",
   "metadata": {},
   "outputs": [],
   "source": [
    "max_features = 100000\n",
    "tokenizer = Tokenizer(num_words=max_features, split='', lower=True)\n",
    "\n",
    "sentiment = ['negative', 'neutral', 'positive']\n",
    "\n",
    "def cleansing(sent):\n",
    "\n",
    "    string = sent.lower()\n",
    "\n",
    "    string = re.sub(r'[^a-zA-Z0-9]', ' ', string)\n",
    "    return string"
   ]
  },
  {
   "cell_type": "code",
   "execution_count": 3,
   "id": "478dfe3a-0d2b-4d31-89c4-4fb214bc6840",
   "metadata": {},
   "outputs": [
    {
     "name": "stderr",
     "output_type": "stream",
     "text": [
      "C:\\Users\\Lenovo T490\\AppData\\Local\\Programs\\Python\\Python312\\Lib\\site-packages\\keras\\src\\layers\\core\\embedding.py:90: UserWarning: Argument `input_length` is deprecated. Just remove it.\n",
      "  warnings.warn(\n",
      "C:\\Users\\Lenovo T490\\AppData\\Local\\Programs\\Python\\Python312\\Lib\\site-packages\\keras\\src\\layers\\core\\embedding.py:93: UserWarning: Do not pass an `input_shape`/`input_dim` argument to a layer. When using Sequential models, prefer using an `Input(shape)` object as the first layer in the model instead.\n",
      "  super().__init__(**kwargs)\n",
      "WARNING:absl:Compiled the loaded model, but the compiled metrics have yet to be built. `model.compile_metrics` will be empty until you train or evaluate the model.\n",
      "WARNING:absl:Error in loading the saved optimizer state. As a result, your model is starting with a freshly initialized optimizer.\n"
     ]
    }
   ],
   "source": [
    "file = open(\"resources_of_cnn/x_pad_sequences.pickle\", 'rb')\n",
    "feature_file_from_cnn = pickle.load(file)\n",
    "file.close()\n",
    "\n",
    "model_file_from_cnn = load_model('model_of_cnn/model.h5')\n",
    "model_file_from_cnn.compile(optimizer='adam', loss='sparse_categorical_crossentropy', metrics=['accuracy'])"
   ]
  },
  {
   "cell_type": "code",
   "execution_count": 4,
   "id": "166701b8-6554-411f-8581-5021653034c3",
   "metadata": {},
   "outputs": [],
   "source": [
    "@swag_from(\"C:/Users/Lenovo T490/Documents/docs/cnn.yml\", methods=['POST'])\n",
    "@app.route('/cnn', methods=['POST'])\n",
    "def cnn():\n",
    "\n",
    "    original_text = request.form.get('text')\n",
    "    text = [cleansing(original_text)]\n",
    "\n",
    "    feature = tokenizer.texts_to_sequences(text)\n",
    "    feature = pad_sequences(feature, maxlen=feature_file_from_cnn.shape[1])\n",
    "\n",
    "    prediction = model_file_from_cnn.predict(feature)\n",
    "    get_sentiment = sentiment[np.argmax(prediction[0])]\n",
    "\n",
    "    json_response = {\n",
    "        'status_code': 200,\n",
    "        'description': \"Result of Sentiment Analysis using CNN\",\n",
    "        'data': {\n",
    "            'text': original_text,\n",
    "            'sentiment': get_sentiment\n",
    "        },\n",
    "    }\n",
    "\n",
    "    response_data = jsonify(json_response)\n",
    "    return response_data"
   ]
  },
  {
   "cell_type": "code",
   "execution_count": null,
   "id": "9a037920-4e22-4e48-a861-20676f4c271a",
   "metadata": {},
   "outputs": [],
   "source": [
    "@swag_from(\"C:/Users/Lenovo T490/Documents/docs/rnn.yml\", methods=['POST'])\n",
    "@app.route('/rnn', methods=['POST'])\n",
    "def cnn():\n",
    "\n",
    "    original_text = request.form.get('text')\n",
    "    text = [cleansing(original_text)]\n",
    "\n",
    "    feature = tokenizer.texts_to_sequences(text)\n",
    "    feature = pad_sequences(feature, maxlen=feature_file_from_cnn.shape[1])\n",
    "\n",
    "    prediction = model_file_from_cnn.predict(feature)\n",
    "    get_sentiment = sentiment[np.argmax(prediction[0])]\n",
    "\n",
    "    json_response = {\n",
    "        'status_code': 200,\n",
    "        'description': \"Result of Sentiment Analysis using RNN\",\n",
    "        'data': {\n",
    "            'text': original_text,\n",
    "            'sentiment': get_sentiment\n",
    "        },\n",
    "    }\n",
    "\n",
    "    response_data = jsonify(json_response)\n",
    "    return response_data"
   ]
  },
  {
   "cell_type": "code",
   "execution_count": null,
   "id": "20521357-7bfc-4c42-8621-0650e5cff299",
   "metadata": {},
   "outputs": [],
   "source": [
    "@swag_from(\"C:/Users/Lenovo T490/Documents/docs/lstm.yml\", methods=['POST'])\n",
    "@app.route('/lstm', methods=['POST'])\n",
    "def cnn():\n",
    "\n",
    "    original_text = request.form.get('text')\n",
    "    text = [cleansing(original_text)]\n",
    "\n",
    "    feature = tokenizer.texts_to_sequences(text)\n",
    "    feature = pad_sequences(feature, maxlen=feature_file_from_cnn.shape[1])\n",
    "\n",
    "    prediction = model_file_from_cnn.predict(feature)\n",
    "    get_sentiment = sentiment[np.argmax(prediction[0])]\n",
    "\n",
    "    json_response = {\n",
    "        'status_code': 200,\n",
    "        'description': \"Result of Sentiment Analysis using LSTM\",\n",
    "        'data': {\n",
    "            'text': original_text,\n",
    "            'sentiment': get_sentiment\n",
    "        },\n",
    "    }\n",
    "\n",
    "    response_data = jsonify(json_response)\n",
    "    return response_data"
   ]
  },
  {
   "cell_type": "code",
   "execution_count": 6,
   "id": "d0eb021e",
   "metadata": {},
   "outputs": [
    {
     "name": "stdout",
     "output_type": "stream",
     "text": [
      " * Serving Flask app '__main__'\n",
      " * Debug mode: on\n"
     ]
    },
    {
     "name": "stderr",
     "output_type": "stream",
     "text": [
      "INFO:werkzeug:\u001b[31m\u001b[1mWARNING: This is a development server. Do not use it in a production deployment. Use a production WSGI server instead.\u001b[0m\n",
      " * Running on http://127.0.0.1:5000\n",
      "INFO:werkzeug:\u001b[33mPress CTRL+C to quit\u001b[0m\n",
      "INFO:werkzeug: * Restarting with stat\n"
     ]
    },
    {
     "ename": "SystemExit",
     "evalue": "1",
     "output_type": "error",
     "traceback": [
      "An exception has occurred, use %tb to see the full traceback.\n",
      "\u001b[1;31mSystemExit\u001b[0m\u001b[1;31m:\u001b[0m 1\n"
     ]
    },
    {
     "name": "stderr",
     "output_type": "stream",
     "text": [
      "C:\\Users\\Lenovo T490\\AppData\\Local\\Programs\\Python\\Python312\\Lib\\site-packages\\IPython\\core\\interactiveshell.py:3585: UserWarning: To exit: use 'exit', 'quit', or Ctrl-D.\n",
      "  warn(\"To exit: use 'exit', 'quit', or Ctrl-D.\", stacklevel=1)\n"
     ]
    }
   ],
   "source": [
    "from flask import Flask, jsonify\n",
    "from flasgger import Swagger\n",
    "from speaklater import make_lazy_string\n",
    "\n",
    "app = Flask(__name__)\n",
    "swagger = Swagger(app)\n",
    "\n",
    "# Contoh penggunaan LazyString\n",
    "lazy_string = make_lazy_string(lambda: \"Lazy evaluation\")\n",
    "\n",
    "@app.route('/docs.json')\n",
    "def get_swagger_docs():\n",
    "    swag = swagger.get_swagger()\n",
    "    for path in swag['paths']:\n",
    "        for method in swag['paths'][path]:\n",
    "            summary = swag['paths'][path][method].get('summary', '')\n",
    "            if isinstance(summary, make_lazy_string):\n",
    "                swag['paths'][path][method]['summary'] = str(summary)\n",
    "    return jsonify(swag)\n",
    "\n",
    "if __name__ == '__main__':\n",
    "    app.run(debug=True)"
   ]
  }
 ],
 "metadata": {
  "kernelspec": {
   "display_name": "Python 3 (ipykernel)",
   "language": "python",
   "name": "python3"
  },
  "language_info": {
   "codemirror_mode": {
    "name": "ipython",
    "version": 3
   },
   "file_extension": ".py",
   "mimetype": "text/x-python",
   "name": "python",
   "nbconvert_exporter": "python",
   "pygments_lexer": "ipython3",
   "version": "3.12.2"
  }
 },
 "nbformat": 4,
 "nbformat_minor": 5
}
